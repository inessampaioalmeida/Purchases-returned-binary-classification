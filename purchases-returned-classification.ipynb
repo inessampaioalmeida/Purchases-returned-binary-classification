{
 "cells": [
  {
   "cell_type": "code",
   "execution_count": 1,
   "metadata": {},
   "outputs": [],
   "source": [
    "import pandas as pd\n",
    "import numpy as np\n",
    "import os\n",
    "import chardet\n",
    "import glob\n",
    "import json\n",
    "import requests\n",
    "from bs4 import BeautifulSoup\n",
    "from sqlalchemy import create_engine\n",
    "import matplotlib.pyplot as plt\n",
    "from scipy.stats import randint\n",
    "\n",
    "from category_encoders import OneHotEncoder, TargetEncoder\n",
    "from sklearn.preprocessing import MinMaxScaler\n",
    "from sklearn.linear_model import LogisticRegression\n",
    "from sklearn.neighbors import KNeighborsClassifier\n",
    "from sklearn.ensemble import RandomForestClassifier\n",
    "from sklearn.svm import SVC\n",
    "\n",
    "from sklearn.metrics import roc_auc_score, precision_score, recall_score, accuracy_score\n",
    "\n",
    "from sklearn.model_selection import train_test_split\n",
    "\n",
    "from sklearn.model_selection import RandomizedSearchCV\n"
   ]
  },
  {
   "cell_type": "markdown",
   "metadata": {},
   "source": [
    "## data_train_1 folder"
   ]
  },
  {
   "cell_type": "code",
   "execution_count": null,
   "metadata": {
    "scrolled": true
   },
   "outputs": [],
   "source": [
    "with open('data/data_train_1/datasource1.csv', 'rb') as fname:\n",
    "    datasource1 = fname.read()[:100]\n",
    "    \n",
    "chardet.detect(datasource1)"
   ]
  },
  {
   "cell_type": "code",
   "execution_count": null,
   "metadata": {},
   "outputs": [],
   "source": [
    "data_train_1_1 = pd.read_csv(os.path.join('data','data_train_1','datasource1.csv'), encoding = 'windows-1251').set_index('id')\n",
    "data_train_1_1.head()"
   ]
  },
  {
   "cell_type": "code",
   "execution_count": null,
   "metadata": {},
   "outputs": [],
   "source": [
    "data_train_1_2 = pd.read_json(os.path.join('data','data_train_1','datasource2.json'), orient = 'split')"
   ]
  },
  {
   "cell_type": "code",
   "execution_count": null,
   "metadata": {},
   "outputs": [],
   "source": [
    "data_train_1_2.head()"
   ]
  },
  {
   "cell_type": "code",
   "execution_count": null,
   "metadata": {},
   "outputs": [],
   "source": [
    "data_train_1_3 = pd.read_csv(os.path.join('data','data_train_1','datasource3.csv'), delimiter = '|').set_index('id')"
   ]
  },
  {
   "cell_type": "code",
   "execution_count": null,
   "metadata": {},
   "outputs": [],
   "source": [
    "data_train_1_3.head()"
   ]
  },
  {
   "cell_type": "markdown",
   "metadata": {},
   "source": [
    "## data_train_2 folder"
   ]
  },
  {
   "cell_type": "code",
   "execution_count": null,
   "metadata": {},
   "outputs": [],
   "source": [
    "data_train_2_1 = pd.read_html(os.path.join('data','data_train_2','datasource4.html'))[0]"
   ]
  },
  {
   "cell_type": "code",
   "execution_count": null,
   "metadata": {},
   "outputs": [],
   "source": [
    "data_train_2_1.columns = data_train_2_1.columns.get_level_values(0)\n",
    "data_train_2_1.columns = ['id', 'isusingmultipledevices', 'freereturn', 'userid']"
   ]
  },
  {
   "cell_type": "code",
   "execution_count": null,
   "metadata": {},
   "outputs": [],
   "source": [
    "data_train_2_1 = data_train_2_1.set_index('id')"
   ]
  },
  {
   "cell_type": "code",
   "execution_count": null,
   "metadata": {},
   "outputs": [],
   "source": [
    "data_train_2_1.head()"
   ]
  },
  {
   "cell_type": "code",
   "execution_count": null,
   "metadata": {},
   "outputs": [],
   "source": [
    "data_train_2_2 = pd.read_json(os.path.join('data','data_train_2','datasource5.csv'))"
   ]
  },
  {
   "cell_type": "code",
   "execution_count": null,
   "metadata": {},
   "outputs": [],
   "source": [
    "data_train_2_2.head()"
   ]
  },
  {
   "cell_type": "code",
   "execution_count": null,
   "metadata": {},
   "outputs": [],
   "source": [
    "data_train_2_3 = pd.read_csv(os.path.join('data','data_train_2','datasource7.csv')).set_index('id')"
   ]
  },
  {
   "cell_type": "code",
   "execution_count": null,
   "metadata": {},
   "outputs": [],
   "source": [
    "data_train_2_3.head()"
   ]
  },
  {
   "cell_type": "markdown",
   "metadata": {},
   "source": [
    "## data_train_3 folder"
   ]
  },
  {
   "cell_type": "code",
   "execution_count": null,
   "metadata": {},
   "outputs": [],
   "source": [
    "path = r'data/datasource6'\n",
    "files = glob.glob(os.path.join(path, \"*.csv\"))\n",
    "\n",
    "df_files = (pd.read_csv(f) for f in files)\n",
    "data_train_3_1  = pd.concat(df_files).set_index('id')"
   ]
  },
  {
   "cell_type": "code",
   "execution_count": null,
   "metadata": {},
   "outputs": [],
   "source": [
    "data_train_3_1.head()"
   ]
  },
  {
   "cell_type": "code",
   "execution_count": null,
   "metadata": {},
   "outputs": [],
   "source": [
    "df_local = data_train_1_1.join(data_train_1_2).join(data_train_1_3).join(data_train_2_1).join(data_train_2_2).join(data_train_2_3).join(data_train_3_1)\n"
   ]
  },
  {
   "cell_type": "code",
   "execution_count": null,
   "metadata": {},
   "outputs": [],
   "source": [
    "df_local.shape"
   ]
  },
  {
   "cell_type": "markdown",
   "metadata": {},
   "source": [
    "## API"
   ]
  },
  {
   "cell_type": "code",
   "execution_count": null,
   "metadata": {},
   "outputs": [],
   "source": [
    "api_index = data_final[data_final.category_1stlevel == 'API'].index.values.tolist()"
   ]
  },
  {
   "cell_type": "code",
   "execution_count": null,
   "metadata": {},
   "outputs": [],
   "source": [
    "api_index[:4]"
   ]
  },
  {
   "cell_type": "code",
   "execution_count": null,
   "metadata": {},
   "outputs": [],
   "source": [
    "url = 'https://y29rdnycjd.execute-api.eu-west-1.amazonaws.com/dev//missingdata/{id}' "
   ]
  },
  {
   "cell_type": "code",
   "execution_count": null,
   "metadata": {},
   "outputs": [],
   "source": [
    "api_data = []\n",
    "for i in api_index:\n",
    "    api_data.append(requests.get(url.format(id=i)).json())\n",
    "    "
   ]
  },
  {
   "cell_type": "code",
   "execution_count": null,
   "metadata": {},
   "outputs": [],
   "source": [
    "len(api_data)"
   ]
  },
  {
   "cell_type": "code",
   "execution_count": null,
   "metadata": {},
   "outputs": [],
   "source": [
    "df_api = pd.DataFrame(api_data)"
   ]
  },
  {
   "cell_type": "code",
   "execution_count": null,
   "metadata": {},
   "outputs": [],
   "source": [
    "df_api['id'] = api_index"
   ]
  },
  {
   "cell_type": "code",
   "execution_count": null,
   "metadata": {
    "scrolled": true
   },
   "outputs": [],
   "source": [
    "df_api = df_api.set_index('id')"
   ]
  },
  {
   "cell_type": "code",
   "execution_count": null,
   "metadata": {},
   "outputs": [],
   "source": [
    "df_api = df_api.drop(columns = 'returned')"
   ]
  },
  {
   "cell_type": "code",
   "execution_count": null,
   "metadata": {},
   "outputs": [],
   "source": [
    "df_api.head()"
   ]
  },
  {
   "cell_type": "markdown",
   "metadata": {},
   "source": [
    "## Web Scrapping"
   ]
  },
  {
   "cell_type": "code",
   "execution_count": null,
   "metadata": {},
   "outputs": [],
   "source": [
    "web_index = data_final[data_final.category_1stlevel == 'WEBSITE'].index.values.tolist()"
   ]
  },
  {
   "cell_type": "code",
   "execution_count": null,
   "metadata": {
    "scrolled": true
   },
   "outputs": [],
   "source": [
    "%%time\n",
    "dfs = []\n",
    "for i in range(1,401,1):\n",
    "\n",
    "    response = requests.get('https://scrap-me.herokuapp.com/items?page={page}'.format(page=i))\n",
    "    soup = BeautifulSoup(response.content, 'html.parser')\n",
    "    cast_list = soup.find_all('table', class_=\"table table-bordered table-hover text-center\")[0]\n",
    "    tr = cast_list.find_all('tr')\n",
    "    df = pd.DataFrame([list(tr.text.replace('\\n', '|')[1:].split('|')) for tr in tr])\n",
    "    new_header = df.iloc[0] \n",
    "    df = df[1:] \n",
    "    df.columns = new_header\n",
    "    dfs.append(df)"
   ]
  },
  {
   "cell_type": "code",
   "execution_count": null,
   "metadata": {},
   "outputs": [],
   "source": [
    "df_web = pd.concat(dfs)"
   ]
  },
  {
   "cell_type": "code",
   "execution_count": null,
   "metadata": {},
   "outputs": [],
   "source": [
    "df_web = df_web.set_index('id')"
   ]
  },
  {
   "cell_type": "markdown",
   "metadata": {},
   "source": [
    "## Database"
   ]
  },
  {
   "cell_type": "code",
   "execution_count": null,
   "metadata": {},
   "outputs": [],
   "source": [
    "# Db settings - PostgreSQL\n",
    "username = 'ldsa_student'\n",
    "password = 'JGIYc6jD'\n",
    "host_name = 'data-wrangling-batch3.cl9uj9cucww7.eu-west-1.rds.amazonaws.com'\n",
    "port = 5432\n",
    "db_name = 'datawrangling'\n",
    "schema = 'hackathon_students'\n",
    "\n",
    "conn_str = 'postgresql://{}:{}@{}:{}/{}'.format(username, password, host_name, port, db_name)\n",
    "conn_args = {'options': '-csearch_path={}'.format(schema)}"
   ]
  },
  {
   "cell_type": "code",
   "execution_count": null,
   "metadata": {},
   "outputs": [],
   "source": [
    "db = create_engine(conn_str, connect_args=conn_args)"
   ]
  },
  {
   "cell_type": "code",
   "execution_count": null,
   "metadata": {},
   "outputs": [],
   "source": [
    "conn = db.connect()"
   ]
  },
  {
   "cell_type": "code",
   "execution_count": null,
   "metadata": {},
   "outputs": [],
   "source": [
    "conn.execute(\"\"\"\n",
    "SELECT\n",
    "   *\n",
    "FROM\n",
    "   pg_catalog.pg_tables\n",
    "WHERE\n",
    "   schemaname != 'pg_catalog'\n",
    "AND schemaname != 'information_schema';\n",
    "\"\"\").fetchall()"
   ]
  },
  {
   "cell_type": "code",
   "execution_count": null,
   "metadata": {},
   "outputs": [],
   "source": [
    "query = 'SELECT * FROM targets;'\n",
    "targets = pd.read_sql_query(query, engine)"
   ]
  },
  {
   "cell_type": "code",
   "execution_count": null,
   "metadata": {},
   "outputs": [],
   "source": [
    "targets = targets.set_index('id')"
   ]
  },
  {
   "cell_type": "code",
   "execution_count": null,
   "metadata": {},
   "outputs": [],
   "source": [
    "query = 'SELECT * FROM storeid;'\n",
    "store_id = pd.read_sql_query(query, engine)"
   ]
  },
  {
   "cell_type": "code",
   "execution_count": null,
   "metadata": {},
   "outputs": [],
   "source": [
    "store_id = store_id.set_index('id')"
   ]
  },
  {
   "cell_type": "markdown",
   "metadata": {},
   "source": [
    "## Joining all data"
   ]
  },
  {
   "cell_type": "code",
   "execution_count": null,
   "metadata": {},
   "outputs": [],
   "source": [
    "df = df_local.join(store_id)"
   ]
  },
  {
   "cell_type": "code",
   "execution_count": null,
   "metadata": {},
   "outputs": [],
   "source": [
    "df = df[-df.issale.isin(['WEBSITE', 'API'])]"
   ]
  },
  {
   "cell_type": "code",
   "execution_count": null,
   "metadata": {},
   "outputs": [],
   "source": [
    "df1 = pd.concat([df, df_api, df_web])"
   ]
  },
  {
   "cell_type": "code",
   "execution_count": null,
   "metadata": {},
   "outputs": [],
   "source": [
    "df = df1.join(targets).drop(columns='')"
   ]
  },
  {
   "cell_type": "code",
   "execution_count": null,
   "metadata": {},
   "outputs": [],
   "source": [
    "df.to_csv('train_data.csv')"
   ]
  },
  {
   "cell_type": "markdown",
   "metadata": {},
   "source": [
    "## Feature Engineering"
   ]
  },
  {
   "cell_type": "code",
   "execution_count": 2,
   "metadata": {},
   "outputs": [
    {
     "name": "stderr",
     "output_type": "stream",
     "text": [
      "/opt/anaconda3/lib/python3.7/site-packages/IPython/core/interactiveshell.py:3063: DtypeWarning: Columns (17,29) have mixed types.Specify dtype option on import or set low_memory=False.\n",
      "  interactivity=interactivity, compiler=compiler, result=result)\n"
     ]
    }
   ],
   "source": [
    "df = pd.read_csv('train_data.csv')"
   ]
  },
  {
   "cell_type": "code",
   "execution_count": 3,
   "metadata": {},
   "outputs": [
    {
     "data": {
      "text/plain": [
       "(543341, 36)"
      ]
     },
     "execution_count": 3,
     "metadata": {},
     "output_type": "execute_result"
    }
   ],
   "source": [
    "df.shape"
   ]
  },
  {
   "cell_type": "code",
   "execution_count": 4,
   "metadata": {},
   "outputs": [],
   "source": [
    "df = df.drop(columns ='Unnamed: 1')"
   ]
  },
  {
   "cell_type": "code",
   "execution_count": 5,
   "metadata": {},
   "outputs": [
    {
     "data": {
      "text/plain": [
       "Index(['id', 'brand', 'category_1stlevel', 'country', 'countrycode',\n",
       "       'countryoforigin', 'ddprate', 'ddpsubcategory', 'designer',\n",
       "       'freereturn', 'hasitemsonbag', 'hasusedwishlist', 'isreseller',\n",
       "       'issale', 'isusingmultipledevices', 'isvip', 'ldsa_team_wishes_you',\n",
       "       'orderdate_gmt', 'orderportalid', 'platform', 'productid', 'promocode',\n",
       "       'region', 'shipper', 'shiptypeid', 'size', 'storeid', 'style',\n",
       "       'test strings (delete please)', 'tierafterorder', 'tierbeforeorder',\n",
       "       'useless values (delete please)', 'userfraudstatus', 'userid',\n",
       "       'returned'],\n",
       "      dtype='object')"
      ]
     },
     "execution_count": 5,
     "metadata": {},
     "output_type": "execute_result"
    }
   ],
   "source": [
    "df.columns"
   ]
  },
  {
   "cell_type": "code",
   "execution_count": 6,
   "metadata": {},
   "outputs": [],
   "source": [
    "def prepare_dataset(df, categorical_features):\n",
    "    _df= df.copy()\n",
    "    \n",
    "    for i in categorical_features:\n",
    "        _df[i] = _df[i].str.lower().str.strip()\n",
    "        \n",
    "    _df = _df.drop(columns=['ldsa_team_wishes_you', 'test strings (delete please)',\n",
    "                            'useless values (delete please)', 'id',\n",
    "                           'countrycode', 'designer', 'orderportalid', 'userid'])\n",
    "    _df['orderdate_gmt'] = pd.to_datetime(df['orderdate_gmt'])\n",
    "    return _df"
   ]
  },
  {
   "cell_type": "code",
   "execution_count": 7,
   "metadata": {},
   "outputs": [],
   "source": [
    "object_type = df.dtypes == 'object'"
   ]
  },
  {
   "cell_type": "code",
   "execution_count": 8,
   "metadata": {},
   "outputs": [],
   "source": [
    "categorical = df.dtypes[object_type].index.tolist()"
   ]
  },
  {
   "cell_type": "code",
   "execution_count": 9,
   "metadata": {},
   "outputs": [],
   "source": [
    "df = prepare_dataset(df, categorical)"
   ]
  },
  {
   "cell_type": "code",
   "execution_count": 10,
   "metadata": {},
   "outputs": [
    {
     "data": {
      "text/plain": [
       "Index(['brand', 'category_1stlevel', 'country', 'countryoforigin', 'ddprate',\n",
       "       'ddpsubcategory', 'freereturn', 'hasitemsonbag', 'hasusedwishlist',\n",
       "       'isreseller', 'issale', 'isusingmultipledevices', 'isvip',\n",
       "       'orderdate_gmt', 'platform', 'productid', 'promocode', 'region',\n",
       "       'shipper', 'shiptypeid', 'size', 'storeid', 'style', 'tierafterorder',\n",
       "       'tierbeforeorder', 'userfraudstatus', 'returned'],\n",
       "      dtype='object')"
      ]
     },
     "execution_count": 10,
     "metadata": {},
     "output_type": "execute_result"
    }
   ],
   "source": [
    "df.columns"
   ]
  },
  {
   "cell_type": "code",
   "execution_count": 11,
   "metadata": {},
   "outputs": [
    {
     "data": {
      "text/html": [
       "<div>\n",
       "<style scoped>\n",
       "    .dataframe tbody tr th:only-of-type {\n",
       "        vertical-align: middle;\n",
       "    }\n",
       "\n",
       "    .dataframe tbody tr th {\n",
       "        vertical-align: top;\n",
       "    }\n",
       "\n",
       "    .dataframe thead th {\n",
       "        text-align: right;\n",
       "    }\n",
       "</style>\n",
       "<table border=\"1\" class=\"dataframe\">\n",
       "  <thead>\n",
       "    <tr style=\"text-align: right;\">\n",
       "      <th></th>\n",
       "      <th>brand</th>\n",
       "      <th>category_1stlevel</th>\n",
       "      <th>country</th>\n",
       "      <th>countryoforigin</th>\n",
       "      <th>ddprate</th>\n",
       "      <th>ddpsubcategory</th>\n",
       "      <th>freereturn</th>\n",
       "      <th>hasitemsonbag</th>\n",
       "      <th>hasusedwishlist</th>\n",
       "      <th>isreseller</th>\n",
       "      <th>...</th>\n",
       "      <th>region</th>\n",
       "      <th>shipper</th>\n",
       "      <th>shiptypeid</th>\n",
       "      <th>size</th>\n",
       "      <th>storeid</th>\n",
       "      <th>style</th>\n",
       "      <th>tierafterorder</th>\n",
       "      <th>tierbeforeorder</th>\n",
       "      <th>userfraudstatus</th>\n",
       "      <th>returned</th>\n",
       "    </tr>\n",
       "  </thead>\n",
       "  <tbody>\n",
       "    <tr>\n",
       "      <th>0</th>\n",
       "      <td>1</td>\n",
       "      <td>accessories</td>\n",
       "      <td>1</td>\n",
       "      <td>1</td>\n",
       "      <td>0.0000</td>\n",
       "      <td>articles of a kind normally carried in the poc...</td>\n",
       "      <td>1</td>\n",
       "      <td>no</td>\n",
       "      <td>yes</td>\n",
       "      <td>no</td>\n",
       "      <td>...</td>\n",
       "      <td>1</td>\n",
       "      <td>1</td>\n",
       "      <td>1</td>\n",
       "      <td>1</td>\n",
       "      <td>1</td>\n",
       "      <td>1</td>\n",
       "      <td>t4</td>\n",
       "      <td>NaN</td>\n",
       "      <td>1</td>\n",
       "      <td>0</td>\n",
       "    </tr>\n",
       "    <tr>\n",
       "      <th>1</th>\n",
       "      <td>2</td>\n",
       "      <td>clothing</td>\n",
       "      <td>1</td>\n",
       "      <td>2</td>\n",
       "      <td>5.0083</td>\n",
       "      <td>NaN</td>\n",
       "      <td>1</td>\n",
       "      <td>no</td>\n",
       "      <td>yes</td>\n",
       "      <td>no</td>\n",
       "      <td>...</td>\n",
       "      <td>1</td>\n",
       "      <td>2</td>\n",
       "      <td>2</td>\n",
       "      <td>2</td>\n",
       "      <td>2</td>\n",
       "      <td>2</td>\n",
       "      <td>t3</td>\n",
       "      <td>t3</td>\n",
       "      <td>2</td>\n",
       "      <td>0</td>\n",
       "    </tr>\n",
       "    <tr>\n",
       "      <th>2</th>\n",
       "      <td>3</td>\n",
       "      <td>clothing</td>\n",
       "      <td>2</td>\n",
       "      <td>2</td>\n",
       "      <td>42.2351</td>\n",
       "      <td>jerseys, pullovers, cardigans, waistcoats and ...</td>\n",
       "      <td>1</td>\n",
       "      <td>yes</td>\n",
       "      <td>no</td>\n",
       "      <td>no</td>\n",
       "      <td>...</td>\n",
       "      <td>1</td>\n",
       "      <td>2</td>\n",
       "      <td>2</td>\n",
       "      <td>3</td>\n",
       "      <td>3</td>\n",
       "      <td>3</td>\n",
       "      <td>t3</td>\n",
       "      <td>NaN</td>\n",
       "      <td>1</td>\n",
       "      <td>0</td>\n",
       "    </tr>\n",
       "    <tr>\n",
       "      <th>3</th>\n",
       "      <td>4</td>\n",
       "      <td>shoes</td>\n",
       "      <td>2</td>\n",
       "      <td>2</td>\n",
       "      <td>42.2351</td>\n",
       "      <td>footwear with outer soles of rubber or plastics</td>\n",
       "      <td>1</td>\n",
       "      <td>yes</td>\n",
       "      <td>no</td>\n",
       "      <td>no</td>\n",
       "      <td>...</td>\n",
       "      <td>1</td>\n",
       "      <td>2</td>\n",
       "      <td>2</td>\n",
       "      <td>4</td>\n",
       "      <td>4</td>\n",
       "      <td>4</td>\n",
       "      <td>t3</td>\n",
       "      <td>NaN</td>\n",
       "      <td>1</td>\n",
       "      <td>0</td>\n",
       "    </tr>\n",
       "    <tr>\n",
       "      <th>4</th>\n",
       "      <td>5</td>\n",
       "      <td>shoes</td>\n",
       "      <td>1</td>\n",
       "      <td>1</td>\n",
       "      <td>5.0083</td>\n",
       "      <td>footwear with outer soles of rubber or plastics</td>\n",
       "      <td>1</td>\n",
       "      <td>no</td>\n",
       "      <td>no</td>\n",
       "      <td>no</td>\n",
       "      <td>...</td>\n",
       "      <td>1</td>\n",
       "      <td>2</td>\n",
       "      <td>2</td>\n",
       "      <td>5</td>\n",
       "      <td>5</td>\n",
       "      <td>5</td>\n",
       "      <td>t4</td>\n",
       "      <td>NaN</td>\n",
       "      <td>3</td>\n",
       "      <td>0</td>\n",
       "    </tr>\n",
       "    <tr>\n",
       "      <th>5</th>\n",
       "      <td>6</td>\n",
       "      <td>accessories</td>\n",
       "      <td>3</td>\n",
       "      <td>1</td>\n",
       "      <td>0.0000</td>\n",
       "      <td>ties, bow ties and cravats</td>\n",
       "      <td>1</td>\n",
       "      <td>no</td>\n",
       "      <td>no</td>\n",
       "      <td>no</td>\n",
       "      <td>...</td>\n",
       "      <td>2</td>\n",
       "      <td>2</td>\n",
       "      <td>2</td>\n",
       "      <td>6</td>\n",
       "      <td>6</td>\n",
       "      <td>6</td>\n",
       "      <td>t2</td>\n",
       "      <td>t2</td>\n",
       "      <td>3</td>\n",
       "      <td>0</td>\n",
       "    </tr>\n",
       "    <tr>\n",
       "      <th>6</th>\n",
       "      <td>7</td>\n",
       "      <td>accessories</td>\n",
       "      <td>3</td>\n",
       "      <td>1</td>\n",
       "      <td>0.0000</td>\n",
       "      <td>ties, bow ties and cravats</td>\n",
       "      <td>1</td>\n",
       "      <td>no</td>\n",
       "      <td>no</td>\n",
       "      <td>no</td>\n",
       "      <td>...</td>\n",
       "      <td>2</td>\n",
       "      <td>2</td>\n",
       "      <td>2</td>\n",
       "      <td>6</td>\n",
       "      <td>7</td>\n",
       "      <td>7</td>\n",
       "      <td>t2</td>\n",
       "      <td>t2</td>\n",
       "      <td>3</td>\n",
       "      <td>0</td>\n",
       "    </tr>\n",
       "    <tr>\n",
       "      <th>7</th>\n",
       "      <td>8</td>\n",
       "      <td>accessories</td>\n",
       "      <td>3</td>\n",
       "      <td>1</td>\n",
       "      <td>0.0000</td>\n",
       "      <td>ties, bow ties and cravats</td>\n",
       "      <td>1</td>\n",
       "      <td>no</td>\n",
       "      <td>no</td>\n",
       "      <td>no</td>\n",
       "      <td>...</td>\n",
       "      <td>2</td>\n",
       "      <td>3</td>\n",
       "      <td>2</td>\n",
       "      <td>6</td>\n",
       "      <td>8</td>\n",
       "      <td>8</td>\n",
       "      <td>t2</td>\n",
       "      <td>t2</td>\n",
       "      <td>3</td>\n",
       "      <td>0</td>\n",
       "    </tr>\n",
       "    <tr>\n",
       "      <th>8</th>\n",
       "      <td>9</td>\n",
       "      <td>clothing</td>\n",
       "      <td>3</td>\n",
       "      <td>3</td>\n",
       "      <td>0.0000</td>\n",
       "      <td>trousers, overalls, shorts</td>\n",
       "      <td>1</td>\n",
       "      <td>yes</td>\n",
       "      <td>no</td>\n",
       "      <td>no</td>\n",
       "      <td>...</td>\n",
       "      <td>2</td>\n",
       "      <td>2</td>\n",
       "      <td>2</td>\n",
       "      <td>7</td>\n",
       "      <td>9</td>\n",
       "      <td>9</td>\n",
       "      <td>t4</td>\n",
       "      <td>t4</td>\n",
       "      <td>3</td>\n",
       "      <td>0</td>\n",
       "    </tr>\n",
       "    <tr>\n",
       "      <th>9</th>\n",
       "      <td>14</td>\n",
       "      <td>clothing</td>\n",
       "      <td>3</td>\n",
       "      <td>1</td>\n",
       "      <td>0.0000</td>\n",
       "      <td>trousers, overalls, shorts</td>\n",
       "      <td>1</td>\n",
       "      <td>yes</td>\n",
       "      <td>no</td>\n",
       "      <td>no</td>\n",
       "      <td>...</td>\n",
       "      <td>2</td>\n",
       "      <td>2</td>\n",
       "      <td>2</td>\n",
       "      <td>7</td>\n",
       "      <td>267</td>\n",
       "      <td>15489</td>\n",
       "      <td>t4</td>\n",
       "      <td>t4</td>\n",
       "      <td>3</td>\n",
       "      <td>1</td>\n",
       "    </tr>\n",
       "  </tbody>\n",
       "</table>\n",
       "<p>10 rows × 27 columns</p>\n",
       "</div>"
      ],
      "text/plain": [
       "   brand category_1stlevel  country  countryoforigin  ddprate  \\\n",
       "0      1       accessories        1                1   0.0000   \n",
       "1      2          clothing        1                2   5.0083   \n",
       "2      3          clothing        2                2  42.2351   \n",
       "3      4             shoes        2                2  42.2351   \n",
       "4      5             shoes        1                1   5.0083   \n",
       "5      6       accessories        3                1   0.0000   \n",
       "6      7       accessories        3                1   0.0000   \n",
       "7      8       accessories        3                1   0.0000   \n",
       "8      9          clothing        3                3   0.0000   \n",
       "9     14          clothing        3                1   0.0000   \n",
       "\n",
       "                                      ddpsubcategory  freereturn  \\\n",
       "0  articles of a kind normally carried in the poc...           1   \n",
       "1                                                NaN           1   \n",
       "2  jerseys, pullovers, cardigans, waistcoats and ...           1   \n",
       "3    footwear with outer soles of rubber or plastics           1   \n",
       "4    footwear with outer soles of rubber or plastics           1   \n",
       "5                         ties, bow ties and cravats           1   \n",
       "6                         ties, bow ties and cravats           1   \n",
       "7                         ties, bow ties and cravats           1   \n",
       "8                         trousers, overalls, shorts           1   \n",
       "9                         trousers, overalls, shorts           1   \n",
       "\n",
       "  hasitemsonbag hasusedwishlist isreseller  ... region shipper shiptypeid  \\\n",
       "0            no             yes         no  ...      1       1          1   \n",
       "1            no             yes         no  ...      1       2          2   \n",
       "2           yes              no         no  ...      1       2          2   \n",
       "3           yes              no         no  ...      1       2          2   \n",
       "4            no              no         no  ...      1       2          2   \n",
       "5            no              no         no  ...      2       2          2   \n",
       "6            no              no         no  ...      2       2          2   \n",
       "7            no              no         no  ...      2       3          2   \n",
       "8           yes              no         no  ...      2       2          2   \n",
       "9           yes              no         no  ...      2       2          2   \n",
       "\n",
       "  size storeid  style  tierafterorder  tierbeforeorder  userfraudstatus  \\\n",
       "0    1       1      1              t4              NaN                1   \n",
       "1    2       2      2              t3               t3                2   \n",
       "2    3       3      3              t3              NaN                1   \n",
       "3    4       4      4              t3              NaN                1   \n",
       "4    5       5      5              t4              NaN                3   \n",
       "5    6       6      6              t2               t2                3   \n",
       "6    6       7      7              t2               t2                3   \n",
       "7    6       8      8              t2               t2                3   \n",
       "8    7       9      9              t4               t4                3   \n",
       "9    7     267  15489              t4               t4                3   \n",
       "\n",
       "   returned  \n",
       "0         0  \n",
       "1         0  \n",
       "2         0  \n",
       "3         0  \n",
       "4         0  \n",
       "5         0  \n",
       "6         0  \n",
       "7         0  \n",
       "8         0  \n",
       "9         1  \n",
       "\n",
       "[10 rows x 27 columns]"
      ]
     },
     "execution_count": 11,
     "metadata": {},
     "output_type": "execute_result"
    }
   ],
   "source": [
    "df.head(10)"
   ]
  },
  {
   "cell_type": "code",
   "execution_count": 12,
   "metadata": {},
   "outputs": [
    {
     "data": {
      "text/html": [
       "<div>\n",
       "<style scoped>\n",
       "    .dataframe tbody tr th:only-of-type {\n",
       "        vertical-align: middle;\n",
       "    }\n",
       "\n",
       "    .dataframe tbody tr th {\n",
       "        vertical-align: top;\n",
       "    }\n",
       "\n",
       "    .dataframe thead th {\n",
       "        text-align: right;\n",
       "    }\n",
       "</style>\n",
       "<table border=\"1\" class=\"dataframe\">\n",
       "  <thead>\n",
       "    <tr style=\"text-align: right;\">\n",
       "      <th></th>\n",
       "      <th>count</th>\n",
       "      <th>unique</th>\n",
       "      <th>top</th>\n",
       "      <th>freq</th>\n",
       "      <th>first</th>\n",
       "      <th>last</th>\n",
       "    </tr>\n",
       "  </thead>\n",
       "  <tbody>\n",
       "    <tr>\n",
       "      <th>category_1stlevel</th>\n",
       "      <td>542687</td>\n",
       "      <td>33</td>\n",
       "      <td>clothing</td>\n",
       "      <td>278172</td>\n",
       "      <td>NaT</td>\n",
       "      <td>NaT</td>\n",
       "    </tr>\n",
       "    <tr>\n",
       "      <th>ddpsubcategory</th>\n",
       "      <td>497997</td>\n",
       "      <td>126</td>\n",
       "      <td>jerseys, pullovers, cardigans, waistcoats and ...</td>\n",
       "      <td>59037</td>\n",
       "      <td>NaT</td>\n",
       "      <td>NaT</td>\n",
       "    </tr>\n",
       "    <tr>\n",
       "      <th>hasitemsonbag</th>\n",
       "      <td>542584</td>\n",
       "      <td>2</td>\n",
       "      <td>no</td>\n",
       "      <td>298293</td>\n",
       "      <td>NaT</td>\n",
       "      <td>NaT</td>\n",
       "    </tr>\n",
       "    <tr>\n",
       "      <th>hasusedwishlist</th>\n",
       "      <td>542584</td>\n",
       "      <td>2</td>\n",
       "      <td>yes</td>\n",
       "      <td>393562</td>\n",
       "      <td>NaT</td>\n",
       "      <td>NaT</td>\n",
       "    </tr>\n",
       "    <tr>\n",
       "      <th>isreseller</th>\n",
       "      <td>542584</td>\n",
       "      <td>2</td>\n",
       "      <td>no</td>\n",
       "      <td>507561</td>\n",
       "      <td>NaT</td>\n",
       "      <td>NaT</td>\n",
       "    </tr>\n",
       "    <tr>\n",
       "      <th>issale</th>\n",
       "      <td>543341</td>\n",
       "      <td>2</td>\n",
       "      <td>yes</td>\n",
       "      <td>295262</td>\n",
       "      <td>NaT</td>\n",
       "      <td>NaT</td>\n",
       "    </tr>\n",
       "    <tr>\n",
       "      <th>isusingmultipledevices</th>\n",
       "      <td>542584</td>\n",
       "      <td>2</td>\n",
       "      <td>no</td>\n",
       "      <td>336439</td>\n",
       "      <td>NaT</td>\n",
       "      <td>NaT</td>\n",
       "    </tr>\n",
       "    <tr>\n",
       "      <th>isvip</th>\n",
       "      <td>542584</td>\n",
       "      <td>4</td>\n",
       "      <td>not vip</td>\n",
       "      <td>424596</td>\n",
       "      <td>NaT</td>\n",
       "      <td>NaT</td>\n",
       "    </tr>\n",
       "    <tr>\n",
       "      <th>orderdate_gmt</th>\n",
       "      <td>543341</td>\n",
       "      <td>347163</td>\n",
       "      <td>2018-01-10 15:28:51.970000+00:00</td>\n",
       "      <td>94</td>\n",
       "      <td>2018-01-01 00:00:19.733000+00:00</td>\n",
       "      <td>2018-02-18 23:59:12.003000+00:00</td>\n",
       "    </tr>\n",
       "    <tr>\n",
       "      <th>platform</th>\n",
       "      <td>446864</td>\n",
       "      <td>2</td>\n",
       "      <td>web</td>\n",
       "      <td>315468</td>\n",
       "      <td>NaT</td>\n",
       "      <td>NaT</td>\n",
       "    </tr>\n",
       "    <tr>\n",
       "      <th>tierafterorder</th>\n",
       "      <td>505189</td>\n",
       "      <td>5</td>\n",
       "      <td>t4</td>\n",
       "      <td>231316</td>\n",
       "      <td>NaT</td>\n",
       "      <td>NaT</td>\n",
       "    </tr>\n",
       "    <tr>\n",
       "      <th>tierbeforeorder</th>\n",
       "      <td>353210</td>\n",
       "      <td>5</td>\n",
       "      <td>t4</td>\n",
       "      <td>126988</td>\n",
       "      <td>NaT</td>\n",
       "      <td>NaT</td>\n",
       "    </tr>\n",
       "  </tbody>\n",
       "</table>\n",
       "</div>"
      ],
      "text/plain": [
       "                         count  unique  \\\n",
       "category_1stlevel       542687      33   \n",
       "ddpsubcategory          497997     126   \n",
       "hasitemsonbag           542584       2   \n",
       "hasusedwishlist         542584       2   \n",
       "isreseller              542584       2   \n",
       "issale                  543341       2   \n",
       "isusingmultipledevices  542584       2   \n",
       "isvip                   542584       4   \n",
       "orderdate_gmt           543341  347163   \n",
       "platform                446864       2   \n",
       "tierafterorder          505189       5   \n",
       "tierbeforeorder         353210       5   \n",
       "\n",
       "                                                                      top  \\\n",
       "category_1stlevel                                                clothing   \n",
       "ddpsubcategory          jerseys, pullovers, cardigans, waistcoats and ...   \n",
       "hasitemsonbag                                                          no   \n",
       "hasusedwishlist                                                       yes   \n",
       "isreseller                                                             no   \n",
       "issale                                                                yes   \n",
       "isusingmultipledevices                                                 no   \n",
       "isvip                                                             not vip   \n",
       "orderdate_gmt                            2018-01-10 15:28:51.970000+00:00   \n",
       "platform                                                              web   \n",
       "tierafterorder                                                         t4   \n",
       "tierbeforeorder                                                        t4   \n",
       "\n",
       "                          freq                            first  \\\n",
       "category_1stlevel       278172                              NaT   \n",
       "ddpsubcategory           59037                              NaT   \n",
       "hasitemsonbag           298293                              NaT   \n",
       "hasusedwishlist         393562                              NaT   \n",
       "isreseller              507561                              NaT   \n",
       "issale                  295262                              NaT   \n",
       "isusingmultipledevices  336439                              NaT   \n",
       "isvip                   424596                              NaT   \n",
       "orderdate_gmt               94 2018-01-01 00:00:19.733000+00:00   \n",
       "platform                315468                              NaT   \n",
       "tierafterorder          231316                              NaT   \n",
       "tierbeforeorder         126988                              NaT   \n",
       "\n",
       "                                                   last  \n",
       "category_1stlevel                                   NaT  \n",
       "ddpsubcategory                                      NaT  \n",
       "hasitemsonbag                                       NaT  \n",
       "hasusedwishlist                                     NaT  \n",
       "isreseller                                          NaT  \n",
       "issale                                              NaT  \n",
       "isusingmultipledevices                              NaT  \n",
       "isvip                                               NaT  \n",
       "orderdate_gmt          2018-02-18 23:59:12.003000+00:00  \n",
       "platform                                            NaT  \n",
       "tierafterorder                                      NaT  \n",
       "tierbeforeorder                                     NaT  "
      ]
     },
     "execution_count": 12,
     "metadata": {},
     "output_type": "execute_result"
    }
   ],
   "source": [
    "df.describe(exclude=np.number).T"
   ]
  },
  {
   "cell_type": "code",
   "execution_count": 13,
   "metadata": {},
   "outputs": [
    {
     "data": {
      "text/plain": [
       "brand                          0\n",
       "category_1stlevel            654\n",
       "country                        0\n",
       "countryoforigin                0\n",
       "ddprate                        0\n",
       "ddpsubcategory             45344\n",
       "freereturn                     0\n",
       "hasitemsonbag                757\n",
       "hasusedwishlist              757\n",
       "isreseller                   757\n",
       "issale                         0\n",
       "isusingmultipledevices       757\n",
       "isvip                        757\n",
       "orderdate_gmt                  0\n",
       "platform                   96477\n",
       "productid                      0\n",
       "promocode                      0\n",
       "region                         0\n",
       "shipper                        0\n",
       "shiptypeid                     0\n",
       "size                           0\n",
       "storeid                        0\n",
       "style                          0\n",
       "tierafterorder             38152\n",
       "tierbeforeorder           190131\n",
       "userfraudstatus                0\n",
       "returned                       0\n",
       "dtype: int64"
      ]
     },
     "execution_count": 13,
     "metadata": {},
     "output_type": "execute_result"
    }
   ],
   "source": [
    "df.isna().sum()"
   ]
  },
  {
   "cell_type": "code",
   "execution_count": 14,
   "metadata": {},
   "outputs": [
    {
     "data": {
      "text/plain": [
       "web    315468\n",
       "app    131396\n",
       "Name: platform, dtype: int64"
      ]
     },
     "execution_count": 14,
     "metadata": {},
     "output_type": "execute_result"
    }
   ],
   "source": [
    "df.platform.value_counts()"
   ]
  },
  {
   "cell_type": "code",
   "execution_count": 15,
   "metadata": {},
   "outputs": [
    {
     "data": {
      "text/plain": [
       "t4     231316\n",
       "t2      83600\n",
       "t3      77007\n",
       "vip     71400\n",
       "t1      41866\n",
       "Name: tierafterorder, dtype: int64"
      ]
     },
     "execution_count": 15,
     "metadata": {},
     "output_type": "execute_result"
    }
   ],
   "source": [
    "df.tierafterorder.value_counts()"
   ]
  },
  {
   "cell_type": "code",
   "execution_count": 16,
   "metadata": {},
   "outputs": [
    {
     "data": {
      "text/plain": [
       "t4     126988\n",
       "t2      67268\n",
       "vip     67200\n",
       "t3      56114\n",
       "t1      35640\n",
       "Name: tierbeforeorder, dtype: int64"
      ]
     },
     "execution_count": 16,
     "metadata": {},
     "output_type": "execute_result"
    }
   ],
   "source": [
    "df.tierbeforeorder.value_counts()"
   ]
  },
  {
   "cell_type": "code",
   "execution_count": 17,
   "metadata": {
    "scrolled": true
   },
   "outputs": [
    {
     "data": {
      "text/plain": [
       "clothing                 278172\n",
       "shoes                    137002\n",
       "accessories               40485\n",
       "bags                      36206\n",
       "girls clothing            10189\n",
       "boys clothing             10119\n",
       "jewellery                  6767\n",
       "homeware                   4659\n",
       "baby boy clothing          3754\n",
       "baby girl clothing         3448\n",
       "activewear                 1971\n",
       "girls shoes                1788\n",
       "teen boy clothing          1741\n",
       "boys shoes                 1524\n",
       "teen girl clothing         1339\n",
       "pre-owned                   958\n",
       "girls accessories           614\n",
       "boys accessories            464\n",
       "fine jewellery              278\n",
       "baby boy accessories        276\n",
       "baby girl accessories       273\n",
       "watches                     154\n",
       "teen girl shoes             123\n",
       "baby girl shoes             118\n",
       "baby boy shoes               97\n",
       "teen boy shoes               95\n",
       "n/d                          29\n",
       "grooming                     17\n",
       "teen girl accessories        13\n",
       "teen boy accessories          9\n",
       "demi-fine jewellery           2\n",
       "baby boy nursery              2\n",
       "beauty                        1\n",
       "Name: category_1stlevel, dtype: int64"
      ]
     },
     "execution_count": 17,
     "metadata": {},
     "output_type": "execute_result"
    }
   ],
   "source": [
    "df.category_1stlevel.value_counts()"
   ]
  },
  {
   "cell_type": "code",
   "execution_count": 18,
   "metadata": {},
   "outputs": [
    {
     "data": {
      "text/plain": [
       "web    315468\n",
       "app    131396\n",
       "Name: platform, dtype: int64"
      ]
     },
     "execution_count": 18,
     "metadata": {},
     "output_type": "execute_result"
    }
   ],
   "source": [
    "df.platform.value_counts()"
   ]
  },
  {
   "cell_type": "code",
   "execution_count": 19,
   "metadata": {},
   "outputs": [],
   "source": [
    "def cleaning_na(df):\n",
    "    \n",
    "    _df = df.copy()\n",
    "    \n",
    "    _df = _df.drop(df[df['hasitemsonbag'].isna() == True].index)\n",
    "    \n",
    "    _df['platform'] = _df['platform'].fillna(_df['platform'].mode()[0])\n",
    "    _df['category_1stlevel'] = _df['category_1stlevel'].fillna(_df['category_1stlevel'].mode()[0])\n",
    "    _df['tierbeforeorder'] = _df['tierbeforeorder'].fillna(_df['tierbeforeorder'].mode()[0])\n",
    "    _df['tierafterorder'] = _df['tierafterorder'].fillna(_df['tierafterorder'].mode()[0])\n",
    "    _df['ddpsubcategory'] = _df['ddpsubcategory'].fillna('n/d')\n",
    "    _df['isvip'] = _df['isvip'].replace({'vip@feb14': 'vip'})\n",
    "\n",
    "    \n",
    "    return _df\n",
    "\n",
    "    "
   ]
  },
  {
   "cell_type": "code",
   "execution_count": 20,
   "metadata": {},
   "outputs": [],
   "source": [
    "def date_time(df):\n",
    "    \n",
    "    _df = df.copy()\n",
    "    \n",
    "    \n",
    "    _df = _df.assign(HourDay =_df['orderdate_gmt'].dt.hour\n",
    "                + (_df['orderdate_gmt'].dt.minute / 60),\n",
    "            DayWeek =_df['orderdate_gmt'].dt.dayofweek,\n",
    "              Month = _df['orderdate_gmt'].dt.month)\n",
    "    \n",
    "    _df = _df.drop(columns ='orderdate_gmt')\n",
    "\n",
    "    return _df\n",
    "    "
   ]
  },
  {
   "cell_type": "code",
   "execution_count": 21,
   "metadata": {},
   "outputs": [],
   "source": [
    "df = cleaning_na(df)"
   ]
  },
  {
   "cell_type": "code",
   "execution_count": 22,
   "metadata": {},
   "outputs": [],
   "source": [
    "df = date_time(df)"
   ]
  },
  {
   "cell_type": "code",
   "execution_count": 23,
   "metadata": {},
   "outputs": [
    {
     "data": {
      "text/html": [
       "<div>\n",
       "<style scoped>\n",
       "    .dataframe tbody tr th:only-of-type {\n",
       "        vertical-align: middle;\n",
       "    }\n",
       "\n",
       "    .dataframe tbody tr th {\n",
       "        vertical-align: top;\n",
       "    }\n",
       "\n",
       "    .dataframe thead th {\n",
       "        text-align: right;\n",
       "    }\n",
       "</style>\n",
       "<table border=\"1\" class=\"dataframe\">\n",
       "  <thead>\n",
       "    <tr style=\"text-align: right;\">\n",
       "      <th></th>\n",
       "      <th>brand</th>\n",
       "      <th>country</th>\n",
       "      <th>countryoforigin</th>\n",
       "      <th>ddprate</th>\n",
       "      <th>freereturn</th>\n",
       "      <th>productid</th>\n",
       "      <th>promocode</th>\n",
       "      <th>region</th>\n",
       "      <th>shipper</th>\n",
       "      <th>shiptypeid</th>\n",
       "      <th>size</th>\n",
       "      <th>storeid</th>\n",
       "      <th>style</th>\n",
       "      <th>userfraudstatus</th>\n",
       "      <th>returned</th>\n",
       "      <th>HourDay</th>\n",
       "      <th>DayWeek</th>\n",
       "      <th>Month</th>\n",
       "    </tr>\n",
       "  </thead>\n",
       "  <tbody>\n",
       "    <tr>\n",
       "      <th>brand</th>\n",
       "      <td>1.0</td>\n",
       "      <td>NaN</td>\n",
       "      <td>NaN</td>\n",
       "      <td>NaN</td>\n",
       "      <td>NaN</td>\n",
       "      <td>NaN</td>\n",
       "      <td>NaN</td>\n",
       "      <td>NaN</td>\n",
       "      <td>NaN</td>\n",
       "      <td>NaN</td>\n",
       "      <td>NaN</td>\n",
       "      <td>NaN</td>\n",
       "      <td>NaN</td>\n",
       "      <td>NaN</td>\n",
       "      <td>NaN</td>\n",
       "      <td>NaN</td>\n",
       "      <td>NaN</td>\n",
       "      <td>NaN</td>\n",
       "    </tr>\n",
       "    <tr>\n",
       "      <th>country</th>\n",
       "      <td>NaN</td>\n",
       "      <td>1.0</td>\n",
       "      <td>NaN</td>\n",
       "      <td>NaN</td>\n",
       "      <td>NaN</td>\n",
       "      <td>NaN</td>\n",
       "      <td>NaN</td>\n",
       "      <td>NaN</td>\n",
       "      <td>NaN</td>\n",
       "      <td>NaN</td>\n",
       "      <td>NaN</td>\n",
       "      <td>NaN</td>\n",
       "      <td>NaN</td>\n",
       "      <td>NaN</td>\n",
       "      <td>NaN</td>\n",
       "      <td>NaN</td>\n",
       "      <td>NaN</td>\n",
       "      <td>NaN</td>\n",
       "    </tr>\n",
       "    <tr>\n",
       "      <th>countryoforigin</th>\n",
       "      <td>NaN</td>\n",
       "      <td>NaN</td>\n",
       "      <td>1.0</td>\n",
       "      <td>NaN</td>\n",
       "      <td>NaN</td>\n",
       "      <td>NaN</td>\n",
       "      <td>NaN</td>\n",
       "      <td>NaN</td>\n",
       "      <td>NaN</td>\n",
       "      <td>NaN</td>\n",
       "      <td>NaN</td>\n",
       "      <td>NaN</td>\n",
       "      <td>NaN</td>\n",
       "      <td>NaN</td>\n",
       "      <td>NaN</td>\n",
       "      <td>NaN</td>\n",
       "      <td>NaN</td>\n",
       "      <td>NaN</td>\n",
       "    </tr>\n",
       "    <tr>\n",
       "      <th>ddprate</th>\n",
       "      <td>NaN</td>\n",
       "      <td>NaN</td>\n",
       "      <td>NaN</td>\n",
       "      <td>1.0</td>\n",
       "      <td>NaN</td>\n",
       "      <td>NaN</td>\n",
       "      <td>NaN</td>\n",
       "      <td>NaN</td>\n",
       "      <td>NaN</td>\n",
       "      <td>NaN</td>\n",
       "      <td>NaN</td>\n",
       "      <td>NaN</td>\n",
       "      <td>NaN</td>\n",
       "      <td>NaN</td>\n",
       "      <td>NaN</td>\n",
       "      <td>NaN</td>\n",
       "      <td>NaN</td>\n",
       "      <td>NaN</td>\n",
       "    </tr>\n",
       "    <tr>\n",
       "      <th>freereturn</th>\n",
       "      <td>NaN</td>\n",
       "      <td>NaN</td>\n",
       "      <td>NaN</td>\n",
       "      <td>NaN</td>\n",
       "      <td>1.0</td>\n",
       "      <td>NaN</td>\n",
       "      <td>NaN</td>\n",
       "      <td>NaN</td>\n",
       "      <td>NaN</td>\n",
       "      <td>NaN</td>\n",
       "      <td>NaN</td>\n",
       "      <td>NaN</td>\n",
       "      <td>NaN</td>\n",
       "      <td>NaN</td>\n",
       "      <td>NaN</td>\n",
       "      <td>NaN</td>\n",
       "      <td>NaN</td>\n",
       "      <td>NaN</td>\n",
       "    </tr>\n",
       "    <tr>\n",
       "      <th>productid</th>\n",
       "      <td>NaN</td>\n",
       "      <td>NaN</td>\n",
       "      <td>NaN</td>\n",
       "      <td>NaN</td>\n",
       "      <td>NaN</td>\n",
       "      <td>1.000000</td>\n",
       "      <td>NaN</td>\n",
       "      <td>NaN</td>\n",
       "      <td>NaN</td>\n",
       "      <td>NaN</td>\n",
       "      <td>NaN</td>\n",
       "      <td>NaN</td>\n",
       "      <td>0.867171</td>\n",
       "      <td>NaN</td>\n",
       "      <td>NaN</td>\n",
       "      <td>NaN</td>\n",
       "      <td>NaN</td>\n",
       "      <td>NaN</td>\n",
       "    </tr>\n",
       "    <tr>\n",
       "      <th>promocode</th>\n",
       "      <td>NaN</td>\n",
       "      <td>NaN</td>\n",
       "      <td>NaN</td>\n",
       "      <td>NaN</td>\n",
       "      <td>NaN</td>\n",
       "      <td>NaN</td>\n",
       "      <td>1.0</td>\n",
       "      <td>NaN</td>\n",
       "      <td>NaN</td>\n",
       "      <td>NaN</td>\n",
       "      <td>NaN</td>\n",
       "      <td>NaN</td>\n",
       "      <td>NaN</td>\n",
       "      <td>NaN</td>\n",
       "      <td>NaN</td>\n",
       "      <td>NaN</td>\n",
       "      <td>NaN</td>\n",
       "      <td>NaN</td>\n",
       "    </tr>\n",
       "    <tr>\n",
       "      <th>region</th>\n",
       "      <td>NaN</td>\n",
       "      <td>NaN</td>\n",
       "      <td>NaN</td>\n",
       "      <td>NaN</td>\n",
       "      <td>NaN</td>\n",
       "      <td>NaN</td>\n",
       "      <td>NaN</td>\n",
       "      <td>1.0</td>\n",
       "      <td>NaN</td>\n",
       "      <td>NaN</td>\n",
       "      <td>NaN</td>\n",
       "      <td>NaN</td>\n",
       "      <td>NaN</td>\n",
       "      <td>NaN</td>\n",
       "      <td>NaN</td>\n",
       "      <td>NaN</td>\n",
       "      <td>NaN</td>\n",
       "      <td>NaN</td>\n",
       "    </tr>\n",
       "    <tr>\n",
       "      <th>shipper</th>\n",
       "      <td>NaN</td>\n",
       "      <td>NaN</td>\n",
       "      <td>NaN</td>\n",
       "      <td>NaN</td>\n",
       "      <td>NaN</td>\n",
       "      <td>NaN</td>\n",
       "      <td>NaN</td>\n",
       "      <td>NaN</td>\n",
       "      <td>1.0</td>\n",
       "      <td>NaN</td>\n",
       "      <td>NaN</td>\n",
       "      <td>NaN</td>\n",
       "      <td>NaN</td>\n",
       "      <td>NaN</td>\n",
       "      <td>NaN</td>\n",
       "      <td>NaN</td>\n",
       "      <td>NaN</td>\n",
       "      <td>NaN</td>\n",
       "    </tr>\n",
       "    <tr>\n",
       "      <th>shiptypeid</th>\n",
       "      <td>NaN</td>\n",
       "      <td>NaN</td>\n",
       "      <td>NaN</td>\n",
       "      <td>NaN</td>\n",
       "      <td>NaN</td>\n",
       "      <td>NaN</td>\n",
       "      <td>NaN</td>\n",
       "      <td>NaN</td>\n",
       "      <td>NaN</td>\n",
       "      <td>1.0</td>\n",
       "      <td>NaN</td>\n",
       "      <td>NaN</td>\n",
       "      <td>NaN</td>\n",
       "      <td>NaN</td>\n",
       "      <td>NaN</td>\n",
       "      <td>NaN</td>\n",
       "      <td>NaN</td>\n",
       "      <td>NaN</td>\n",
       "    </tr>\n",
       "    <tr>\n",
       "      <th>size</th>\n",
       "      <td>NaN</td>\n",
       "      <td>NaN</td>\n",
       "      <td>NaN</td>\n",
       "      <td>NaN</td>\n",
       "      <td>NaN</td>\n",
       "      <td>NaN</td>\n",
       "      <td>NaN</td>\n",
       "      <td>NaN</td>\n",
       "      <td>NaN</td>\n",
       "      <td>NaN</td>\n",
       "      <td>1.0</td>\n",
       "      <td>NaN</td>\n",
       "      <td>NaN</td>\n",
       "      <td>NaN</td>\n",
       "      <td>NaN</td>\n",
       "      <td>NaN</td>\n",
       "      <td>NaN</td>\n",
       "      <td>NaN</td>\n",
       "    </tr>\n",
       "    <tr>\n",
       "      <th>storeid</th>\n",
       "      <td>NaN</td>\n",
       "      <td>NaN</td>\n",
       "      <td>NaN</td>\n",
       "      <td>NaN</td>\n",
       "      <td>NaN</td>\n",
       "      <td>NaN</td>\n",
       "      <td>NaN</td>\n",
       "      <td>NaN</td>\n",
       "      <td>NaN</td>\n",
       "      <td>NaN</td>\n",
       "      <td>NaN</td>\n",
       "      <td>1.0</td>\n",
       "      <td>NaN</td>\n",
       "      <td>NaN</td>\n",
       "      <td>NaN</td>\n",
       "      <td>NaN</td>\n",
       "      <td>NaN</td>\n",
       "      <td>NaN</td>\n",
       "    </tr>\n",
       "    <tr>\n",
       "      <th>style</th>\n",
       "      <td>NaN</td>\n",
       "      <td>NaN</td>\n",
       "      <td>NaN</td>\n",
       "      <td>NaN</td>\n",
       "      <td>NaN</td>\n",
       "      <td>0.867171</td>\n",
       "      <td>NaN</td>\n",
       "      <td>NaN</td>\n",
       "      <td>NaN</td>\n",
       "      <td>NaN</td>\n",
       "      <td>NaN</td>\n",
       "      <td>NaN</td>\n",
       "      <td>1.000000</td>\n",
       "      <td>NaN</td>\n",
       "      <td>NaN</td>\n",
       "      <td>NaN</td>\n",
       "      <td>NaN</td>\n",
       "      <td>NaN</td>\n",
       "    </tr>\n",
       "    <tr>\n",
       "      <th>userfraudstatus</th>\n",
       "      <td>NaN</td>\n",
       "      <td>NaN</td>\n",
       "      <td>NaN</td>\n",
       "      <td>NaN</td>\n",
       "      <td>NaN</td>\n",
       "      <td>NaN</td>\n",
       "      <td>NaN</td>\n",
       "      <td>NaN</td>\n",
       "      <td>NaN</td>\n",
       "      <td>NaN</td>\n",
       "      <td>NaN</td>\n",
       "      <td>NaN</td>\n",
       "      <td>NaN</td>\n",
       "      <td>1.0</td>\n",
       "      <td>NaN</td>\n",
       "      <td>NaN</td>\n",
       "      <td>NaN</td>\n",
       "      <td>NaN</td>\n",
       "    </tr>\n",
       "    <tr>\n",
       "      <th>returned</th>\n",
       "      <td>NaN</td>\n",
       "      <td>NaN</td>\n",
       "      <td>NaN</td>\n",
       "      <td>NaN</td>\n",
       "      <td>NaN</td>\n",
       "      <td>NaN</td>\n",
       "      <td>NaN</td>\n",
       "      <td>NaN</td>\n",
       "      <td>NaN</td>\n",
       "      <td>NaN</td>\n",
       "      <td>NaN</td>\n",
       "      <td>NaN</td>\n",
       "      <td>NaN</td>\n",
       "      <td>NaN</td>\n",
       "      <td>1.0</td>\n",
       "      <td>NaN</td>\n",
       "      <td>NaN</td>\n",
       "      <td>NaN</td>\n",
       "    </tr>\n",
       "    <tr>\n",
       "      <th>HourDay</th>\n",
       "      <td>NaN</td>\n",
       "      <td>NaN</td>\n",
       "      <td>NaN</td>\n",
       "      <td>NaN</td>\n",
       "      <td>NaN</td>\n",
       "      <td>NaN</td>\n",
       "      <td>NaN</td>\n",
       "      <td>NaN</td>\n",
       "      <td>NaN</td>\n",
       "      <td>NaN</td>\n",
       "      <td>NaN</td>\n",
       "      <td>NaN</td>\n",
       "      <td>NaN</td>\n",
       "      <td>NaN</td>\n",
       "      <td>NaN</td>\n",
       "      <td>1.0</td>\n",
       "      <td>NaN</td>\n",
       "      <td>NaN</td>\n",
       "    </tr>\n",
       "    <tr>\n",
       "      <th>DayWeek</th>\n",
       "      <td>NaN</td>\n",
       "      <td>NaN</td>\n",
       "      <td>NaN</td>\n",
       "      <td>NaN</td>\n",
       "      <td>NaN</td>\n",
       "      <td>NaN</td>\n",
       "      <td>NaN</td>\n",
       "      <td>NaN</td>\n",
       "      <td>NaN</td>\n",
       "      <td>NaN</td>\n",
       "      <td>NaN</td>\n",
       "      <td>NaN</td>\n",
       "      <td>NaN</td>\n",
       "      <td>NaN</td>\n",
       "      <td>NaN</td>\n",
       "      <td>NaN</td>\n",
       "      <td>1.0</td>\n",
       "      <td>NaN</td>\n",
       "    </tr>\n",
       "    <tr>\n",
       "      <th>Month</th>\n",
       "      <td>NaN</td>\n",
       "      <td>NaN</td>\n",
       "      <td>NaN</td>\n",
       "      <td>NaN</td>\n",
       "      <td>NaN</td>\n",
       "      <td>NaN</td>\n",
       "      <td>NaN</td>\n",
       "      <td>NaN</td>\n",
       "      <td>NaN</td>\n",
       "      <td>NaN</td>\n",
       "      <td>NaN</td>\n",
       "      <td>NaN</td>\n",
       "      <td>NaN</td>\n",
       "      <td>NaN</td>\n",
       "      <td>NaN</td>\n",
       "      <td>NaN</td>\n",
       "      <td>NaN</td>\n",
       "      <td>1.0</td>\n",
       "    </tr>\n",
       "  </tbody>\n",
       "</table>\n",
       "</div>"
      ],
      "text/plain": [
       "                 brand  country  countryoforigin  ddprate  freereturn  \\\n",
       "brand              1.0      NaN              NaN      NaN         NaN   \n",
       "country            NaN      1.0              NaN      NaN         NaN   \n",
       "countryoforigin    NaN      NaN              1.0      NaN         NaN   \n",
       "ddprate            NaN      NaN              NaN      1.0         NaN   \n",
       "freereturn         NaN      NaN              NaN      NaN         1.0   \n",
       "productid          NaN      NaN              NaN      NaN         NaN   \n",
       "promocode          NaN      NaN              NaN      NaN         NaN   \n",
       "region             NaN      NaN              NaN      NaN         NaN   \n",
       "shipper            NaN      NaN              NaN      NaN         NaN   \n",
       "shiptypeid         NaN      NaN              NaN      NaN         NaN   \n",
       "size               NaN      NaN              NaN      NaN         NaN   \n",
       "storeid            NaN      NaN              NaN      NaN         NaN   \n",
       "style              NaN      NaN              NaN      NaN         NaN   \n",
       "userfraudstatus    NaN      NaN              NaN      NaN         NaN   \n",
       "returned           NaN      NaN              NaN      NaN         NaN   \n",
       "HourDay            NaN      NaN              NaN      NaN         NaN   \n",
       "DayWeek            NaN      NaN              NaN      NaN         NaN   \n",
       "Month              NaN      NaN              NaN      NaN         NaN   \n",
       "\n",
       "                 productid  promocode  region  shipper  shiptypeid  size  \\\n",
       "brand                  NaN        NaN     NaN      NaN         NaN   NaN   \n",
       "country                NaN        NaN     NaN      NaN         NaN   NaN   \n",
       "countryoforigin        NaN        NaN     NaN      NaN         NaN   NaN   \n",
       "ddprate                NaN        NaN     NaN      NaN         NaN   NaN   \n",
       "freereturn             NaN        NaN     NaN      NaN         NaN   NaN   \n",
       "productid         1.000000        NaN     NaN      NaN         NaN   NaN   \n",
       "promocode              NaN        1.0     NaN      NaN         NaN   NaN   \n",
       "region                 NaN        NaN     1.0      NaN         NaN   NaN   \n",
       "shipper                NaN        NaN     NaN      1.0         NaN   NaN   \n",
       "shiptypeid             NaN        NaN     NaN      NaN         1.0   NaN   \n",
       "size                   NaN        NaN     NaN      NaN         NaN   1.0   \n",
       "storeid                NaN        NaN     NaN      NaN         NaN   NaN   \n",
       "style             0.867171        NaN     NaN      NaN         NaN   NaN   \n",
       "userfraudstatus        NaN        NaN     NaN      NaN         NaN   NaN   \n",
       "returned               NaN        NaN     NaN      NaN         NaN   NaN   \n",
       "HourDay                NaN        NaN     NaN      NaN         NaN   NaN   \n",
       "DayWeek                NaN        NaN     NaN      NaN         NaN   NaN   \n",
       "Month                  NaN        NaN     NaN      NaN         NaN   NaN   \n",
       "\n",
       "                 storeid     style  userfraudstatus  returned  HourDay  \\\n",
       "brand                NaN       NaN              NaN       NaN      NaN   \n",
       "country              NaN       NaN              NaN       NaN      NaN   \n",
       "countryoforigin      NaN       NaN              NaN       NaN      NaN   \n",
       "ddprate              NaN       NaN              NaN       NaN      NaN   \n",
       "freereturn           NaN       NaN              NaN       NaN      NaN   \n",
       "productid            NaN  0.867171              NaN       NaN      NaN   \n",
       "promocode            NaN       NaN              NaN       NaN      NaN   \n",
       "region               NaN       NaN              NaN       NaN      NaN   \n",
       "shipper              NaN       NaN              NaN       NaN      NaN   \n",
       "shiptypeid           NaN       NaN              NaN       NaN      NaN   \n",
       "size                 NaN       NaN              NaN       NaN      NaN   \n",
       "storeid              1.0       NaN              NaN       NaN      NaN   \n",
       "style                NaN  1.000000              NaN       NaN      NaN   \n",
       "userfraudstatus      NaN       NaN              1.0       NaN      NaN   \n",
       "returned             NaN       NaN              NaN       1.0      NaN   \n",
       "HourDay              NaN       NaN              NaN       NaN      1.0   \n",
       "DayWeek              NaN       NaN              NaN       NaN      NaN   \n",
       "Month                NaN       NaN              NaN       NaN      NaN   \n",
       "\n",
       "                 DayWeek  Month  \n",
       "brand                NaN    NaN  \n",
       "country              NaN    NaN  \n",
       "countryoforigin      NaN    NaN  \n",
       "ddprate              NaN    NaN  \n",
       "freereturn           NaN    NaN  \n",
       "productid            NaN    NaN  \n",
       "promocode            NaN    NaN  \n",
       "region               NaN    NaN  \n",
       "shipper              NaN    NaN  \n",
       "shiptypeid           NaN    NaN  \n",
       "size                 NaN    NaN  \n",
       "storeid              NaN    NaN  \n",
       "style                NaN    NaN  \n",
       "userfraudstatus      NaN    NaN  \n",
       "returned             NaN    NaN  \n",
       "HourDay              NaN    NaN  \n",
       "DayWeek              1.0    NaN  \n",
       "Month                NaN    1.0  "
      ]
     },
     "execution_count": 23,
     "metadata": {},
     "output_type": "execute_result"
    }
   ],
   "source": [
    "df.corr()[df.corr() > abs(0.7)]"
   ]
  },
  {
   "cell_type": "code",
   "execution_count": 24,
   "metadata": {},
   "outputs": [],
   "source": [
    "df = df.drop(columns='productid') #productid and style are highly correlated, then dropping one of them"
   ]
  },
  {
   "cell_type": "code",
   "execution_count": 25,
   "metadata": {},
   "outputs": [
    {
     "data": {
      "text/html": [
       "<div>\n",
       "<style scoped>\n",
       "    .dataframe tbody tr th:only-of-type {\n",
       "        vertical-align: middle;\n",
       "    }\n",
       "\n",
       "    .dataframe tbody tr th {\n",
       "        vertical-align: top;\n",
       "    }\n",
       "\n",
       "    .dataframe thead th {\n",
       "        text-align: right;\n",
       "    }\n",
       "</style>\n",
       "<table border=\"1\" class=\"dataframe\">\n",
       "  <thead>\n",
       "    <tr style=\"text-align: right;\">\n",
       "      <th></th>\n",
       "      <th>count</th>\n",
       "      <th>unique</th>\n",
       "      <th>top</th>\n",
       "      <th>freq</th>\n",
       "    </tr>\n",
       "  </thead>\n",
       "  <tbody>\n",
       "    <tr>\n",
       "      <th>category_1stlevel</th>\n",
       "      <td>542584</td>\n",
       "      <td>33</td>\n",
       "      <td>clothing</td>\n",
       "      <td>278434</td>\n",
       "    </tr>\n",
       "    <tr>\n",
       "      <th>ddpsubcategory</th>\n",
       "      <td>542584</td>\n",
       "      <td>126</td>\n",
       "      <td>n/d</td>\n",
       "      <td>73358</td>\n",
       "    </tr>\n",
       "    <tr>\n",
       "      <th>hasitemsonbag</th>\n",
       "      <td>542584</td>\n",
       "      <td>2</td>\n",
       "      <td>no</td>\n",
       "      <td>298293</td>\n",
       "    </tr>\n",
       "    <tr>\n",
       "      <th>hasusedwishlist</th>\n",
       "      <td>542584</td>\n",
       "      <td>2</td>\n",
       "      <td>yes</td>\n",
       "      <td>393562</td>\n",
       "    </tr>\n",
       "    <tr>\n",
       "      <th>isreseller</th>\n",
       "      <td>542584</td>\n",
       "      <td>2</td>\n",
       "      <td>no</td>\n",
       "      <td>507561</td>\n",
       "    </tr>\n",
       "    <tr>\n",
       "      <th>issale</th>\n",
       "      <td>542584</td>\n",
       "      <td>2</td>\n",
       "      <td>yes</td>\n",
       "      <td>294815</td>\n",
       "    </tr>\n",
       "    <tr>\n",
       "      <th>isusingmultipledevices</th>\n",
       "      <td>542584</td>\n",
       "      <td>2</td>\n",
       "      <td>no</td>\n",
       "      <td>336439</td>\n",
       "    </tr>\n",
       "    <tr>\n",
       "      <th>isvip</th>\n",
       "      <td>542584</td>\n",
       "      <td>3</td>\n",
       "      <td>not vip</td>\n",
       "      <td>424596</td>\n",
       "    </tr>\n",
       "    <tr>\n",
       "      <th>platform</th>\n",
       "      <td>542584</td>\n",
       "      <td>2</td>\n",
       "      <td>web</td>\n",
       "      <td>411188</td>\n",
       "    </tr>\n",
       "    <tr>\n",
       "      <th>tierafterorder</th>\n",
       "      <td>542584</td>\n",
       "      <td>5</td>\n",
       "      <td>t4</td>\n",
       "      <td>268900</td>\n",
       "    </tr>\n",
       "    <tr>\n",
       "      <th>tierbeforeorder</th>\n",
       "      <td>542584</td>\n",
       "      <td>5</td>\n",
       "      <td>t4</td>\n",
       "      <td>316499</td>\n",
       "    </tr>\n",
       "  </tbody>\n",
       "</table>\n",
       "</div>"
      ],
      "text/plain": [
       "                         count unique       top    freq\n",
       "category_1stlevel       542584     33  clothing  278434\n",
       "ddpsubcategory          542584    126       n/d   73358\n",
       "hasitemsonbag           542584      2        no  298293\n",
       "hasusedwishlist         542584      2       yes  393562\n",
       "isreseller              542584      2        no  507561\n",
       "issale                  542584      2       yes  294815\n",
       "isusingmultipledevices  542584      2        no  336439\n",
       "isvip                   542584      3   not vip  424596\n",
       "platform                542584      2       web  411188\n",
       "tierafterorder          542584      5        t4  268900\n",
       "tierbeforeorder         542584      5        t4  316499"
      ]
     },
     "execution_count": 25,
     "metadata": {},
     "output_type": "execute_result"
    }
   ],
   "source": [
    "df.describe(exclude=np.number).T"
   ]
  },
  {
   "cell_type": "code",
   "execution_count": 26,
   "metadata": {},
   "outputs": [],
   "source": [
    "X = df.drop(columns='returned')"
   ]
  },
  {
   "cell_type": "code",
   "execution_count": 27,
   "metadata": {},
   "outputs": [
    {
     "data": {
      "text/plain": [
       "Index(['brand', 'category_1stlevel', 'country', 'countryoforigin', 'ddprate',\n",
       "       'ddpsubcategory', 'freereturn', 'hasitemsonbag', 'hasusedwishlist',\n",
       "       'isreseller', 'issale', 'isusingmultipledevices', 'isvip', 'platform',\n",
       "       'promocode', 'region', 'shipper', 'shiptypeid', 'size', 'storeid',\n",
       "       'style', 'tierafterorder', 'tierbeforeorder', 'userfraudstatus',\n",
       "       'HourDay', 'DayWeek', 'Month'],\n",
       "      dtype='object')"
      ]
     },
     "execution_count": 27,
     "metadata": {},
     "output_type": "execute_result"
    }
   ],
   "source": [
    "X.columns"
   ]
  },
  {
   "cell_type": "code",
   "execution_count": 28,
   "metadata": {},
   "outputs": [],
   "source": [
    "## some features dropped after analysing features importance\n",
    "\n",
    "X = X[['style',\n",
    " 'HourDay',\n",
    " 'storeid',\n",
    " 'brand',\n",
    " 'size',\n",
    " 'DayWeek',\n",
    " 'country',\n",
    " 'ddpsubcategory',\n",
    " 'countryoforigin',\n",
    " 'promocode']]"
   ]
  },
  {
   "cell_type": "code",
   "execution_count": 29,
   "metadata": {},
   "outputs": [],
   "source": [
    "y = df[['returned']]"
   ]
  },
  {
   "cell_type": "markdown",
   "metadata": {},
   "source": [
    "## Encoding Categorical Features with Binary Encoder"
   ]
  },
  {
   "cell_type": "code",
   "execution_count": 30,
   "metadata": {},
   "outputs": [],
   "source": [
    "X_train_, X_test_, y_train_, y_test_ = train_test_split(X, y, test_size=0.2, random_state=1)"
   ]
  },
  {
   "cell_type": "code",
   "execution_count": 31,
   "metadata": {},
   "outputs": [],
   "source": [
    "def encoding_features(X_train__, y_train__,  X_test__):\n",
    "    te = TargetEncoder()\n",
    "    te.fit(X_train__, y_train__)\n",
    "    X_train_enc = te.transform(X_train__)\n",
    "    X_test_enc = te.transform(X_test__)\n",
    "    \n",
    "\n",
    "    minmax= MinMaxScaler()\n",
    "    minmax.fit(X_train_enc)\n",
    "    X_train_minmax = minmax.transform(X_train_enc)\n",
    "    X_test_minmax = minmax.transform(X_test_enc)\n",
    "    \n",
    "    return X_train_minmax, X_test_minmax"
   ]
  },
  {
   "cell_type": "code",
   "execution_count": 32,
   "metadata": {},
   "outputs": [],
   "source": [
    "X_train, X_test = encoding_features(X_train_, y_train_,X_test_)"
   ]
  },
  {
   "cell_type": "code",
   "execution_count": 33,
   "metadata": {},
   "outputs": [],
   "source": [
    "rf = RandomForestClassifier()"
   ]
  },
  {
   "cell_type": "code",
   "execution_count": 36,
   "metadata": {},
   "outputs": [
    {
     "name": "stderr",
     "output_type": "stream",
     "text": [
      "/opt/anaconda3/lib/python3.7/site-packages/ipykernel_launcher.py:1: DataConversionWarning: A column-vector y was passed when a 1d array was expected. Please change the shape of y to (n_samples,), for example using ravel().\n",
      "  \"\"\"Entry point for launching an IPython kernel.\n"
     ]
    },
    {
     "data": {
      "text/plain": [
       "RandomForestClassifier(bootstrap=True, ccp_alpha=0.0, class_weight=None,\n",
       "                       criterion='gini', max_depth=None, max_features='auto',\n",
       "                       max_leaf_nodes=None, max_samples=None,\n",
       "                       min_impurity_decrease=0.0, min_impurity_split=None,\n",
       "                       min_samples_leaf=1, min_samples_split=2,\n",
       "                       min_weight_fraction_leaf=0.0, n_estimators=100,\n",
       "                       n_jobs=None, oob_score=False, random_state=None,\n",
       "                       verbose=0, warm_start=False)"
      ]
     },
     "execution_count": 36,
     "metadata": {},
     "output_type": "execute_result"
    }
   ],
   "source": [
    "rf.fit(X_train, y_train_)"
   ]
  },
  {
   "cell_type": "code",
   "execution_count": 37,
   "metadata": {},
   "outputs": [],
   "source": [
    "y_pred = rf.predict(X_test)"
   ]
  },
  {
   "cell_type": "code",
   "execution_count": 39,
   "metadata": {},
   "outputs": [
    {
     "name": "stdout",
     "output_type": "stream",
     "text": [
      "Accuracy: 0.914\n",
      "Precision: 0.938\n",
      "Recall: 0.199\n",
      "AUROC Score: 0.599\n"
     ]
    }
   ],
   "source": [
    "print('Accuracy:', round(accuracy_score(y_test_, y_pred), 3))\n",
    "print('Precision:', round(precision_score(y_test_, y_pred), 3))\n",
    "print('Recall:', round(recall_score(y_test_, y_pred), 3))\n",
    "print('AUROC Score:', round(roc_auc_score(y_test_, y_pred), 3))"
   ]
  },
  {
   "cell_type": "code",
   "execution_count": 40,
   "metadata": {},
   "outputs": [
    {
     "data": {
      "image/png": "[encoded data removed]",
      "text/plain": [
       "<Figure size 1440x720 with 1 Axes>"
      ]
     },
     "metadata": {
      "needs_background": "light"
     },
     "output_type": "display_data"
    }
   ],
   "source": [
    "plt.figure(figsize=(20,10))\n",
    "pd.Series(abs(rf.feature_importances_), index=X.columns).nlargest(10).plot.barh();"
   ]
  },
  {
   "cell_type": "code",
   "execution_count": 46,
   "metadata": {},
   "outputs": [],
   "source": [
    "parameter_space = {'max_depth': [10, 50, 100, 200],\n",
    "                   'n_estimators': [10, 50, 100, 200]}"
   ]
  },
  {
   "cell_type": "code",
   "execution_count": 47,
   "metadata": {},
   "outputs": [],
   "source": [
    "rf_randomsearch = RandomizedSearchCV(estimator = RandomForestClassifier(),\n",
    "                                     param_distributions= parameter_space,\n",
    "                                     n_iter= 5,\n",
    "                                     cv=3,\n",
    "                                     scoring='roc_auc')"
   ]
  },
  {
   "cell_type": "code",
   "execution_count": 48,
   "metadata": {},
   "outputs": [
    {
     "name": "stderr",
     "output_type": "stream",
     "text": [
      "/opt/anaconda3/lib/python3.7/site-packages/sklearn/model_selection/_validation.py:515: DataConversionWarning: A column-vector y was passed when a 1d array was expected. Please change the shape of y to (n_samples,), for example using ravel().\n",
      "  estimator.fit(X_train, y_train, **fit_params)\n",
      "/opt/anaconda3/lib/python3.7/site-packages/sklearn/model_selection/_validation.py:515: DataConversionWarning: A column-vector y was passed when a 1d array was expected. Please change the shape of y to (n_samples,), for example using ravel().\n",
      "  estimator.fit(X_train, y_train, **fit_params)\n",
      "/opt/anaconda3/lib/python3.7/site-packages/sklearn/model_selection/_validation.py:515: DataConversionWarning: A column-vector y was passed when a 1d array was expected. Please change the shape of y to (n_samples,), for example using ravel().\n",
      "  estimator.fit(X_train, y_train, **fit_params)\n",
      "/opt/anaconda3/lib/python3.7/site-packages/sklearn/model_selection/_validation.py:515: DataConversionWarning: A column-vector y was passed when a 1d array was expected. Please change the shape of y to (n_samples,), for example using ravel().\n",
      "  estimator.fit(X_train, y_train, **fit_params)\n",
      "/opt/anaconda3/lib/python3.7/site-packages/sklearn/model_selection/_validation.py:515: DataConversionWarning: A column-vector y was passed when a 1d array was expected. Please change the shape of y to (n_samples,), for example using ravel().\n",
      "  estimator.fit(X_train, y_train, **fit_params)\n",
      "/opt/anaconda3/lib/python3.7/site-packages/sklearn/model_selection/_validation.py:515: DataConversionWarning: A column-vector y was passed when a 1d array was expected. Please change the shape of y to (n_samples,), for example using ravel().\n",
      "  estimator.fit(X_train, y_train, **fit_params)\n",
      "/opt/anaconda3/lib/python3.7/site-packages/sklearn/model_selection/_validation.py:515: DataConversionWarning: A column-vector y was passed when a 1d array was expected. Please change the shape of y to (n_samples,), for example using ravel().\n",
      "  estimator.fit(X_train, y_train, **fit_params)\n",
      "/opt/anaconda3/lib/python3.7/site-packages/sklearn/model_selection/_validation.py:515: DataConversionWarning: A column-vector y was passed when a 1d array was expected. Please change the shape of y to (n_samples,), for example using ravel().\n",
      "  estimator.fit(X_train, y_train, **fit_params)\n",
      "/opt/anaconda3/lib/python3.7/site-packages/sklearn/model_selection/_validation.py:515: DataConversionWarning: A column-vector y was passed when a 1d array was expected. Please change the shape of y to (n_samples,), for example using ravel().\n",
      "  estimator.fit(X_train, y_train, **fit_params)\n",
      "/opt/anaconda3/lib/python3.7/site-packages/sklearn/model_selection/_validation.py:515: DataConversionWarning: A column-vector y was passed when a 1d array was expected. Please change the shape of y to (n_samples,), for example using ravel().\n",
      "  estimator.fit(X_train, y_train, **fit_params)\n",
      "/opt/anaconda3/lib/python3.7/site-packages/sklearn/model_selection/_validation.py:515: DataConversionWarning: A column-vector y was passed when a 1d array was expected. Please change the shape of y to (n_samples,), for example using ravel().\n",
      "  estimator.fit(X_train, y_train, **fit_params)\n",
      "/opt/anaconda3/lib/python3.7/site-packages/sklearn/model_selection/_validation.py:515: DataConversionWarning: A column-vector y was passed when a 1d array was expected. Please change the shape of y to (n_samples,), for example using ravel().\n",
      "  estimator.fit(X_train, y_train, **fit_params)\n",
      "/opt/anaconda3/lib/python3.7/site-packages/sklearn/model_selection/_validation.py:515: DataConversionWarning: A column-vector y was passed when a 1d array was expected. Please change the shape of y to (n_samples,), for example using ravel().\n",
      "  estimator.fit(X_train, y_train, **fit_params)\n",
      "/opt/anaconda3/lib/python3.7/site-packages/sklearn/model_selection/_validation.py:515: DataConversionWarning: A column-vector y was passed when a 1d array was expected. Please change the shape of y to (n_samples,), for example using ravel().\n",
      "  estimator.fit(X_train, y_train, **fit_params)\n",
      "/opt/anaconda3/lib/python3.7/site-packages/sklearn/model_selection/_validation.py:515: DataConversionWarning: A column-vector y was passed when a 1d array was expected. Please change the shape of y to (n_samples,), for example using ravel().\n",
      "  estimator.fit(X_train, y_train, **fit_params)\n",
      "/opt/anaconda3/lib/python3.7/site-packages/sklearn/model_selection/_search.py:739: DataConversionWarning: A column-vector y was passed when a 1d array was expected. Please change the shape of y to (n_samples,), for example using ravel().\n",
      "  self.best_estimator_.fit(X, y, **fit_params)\n"
     ]
    },
    {
     "data": {
      "text/plain": [
       "RandomizedSearchCV(cv=3, error_score=nan,\n",
       "                   estimator=RandomForestClassifier(bootstrap=True,\n",
       "                                                    ccp_alpha=0.0,\n",
       "                                                    class_weight=None,\n",
       "                                                    criterion='gini',\n",
       "                                                    max_depth=None,\n",
       "                                                    max_features='auto',\n",
       "                                                    max_leaf_nodes=None,\n",
       "                                                    max_samples=None,\n",
       "                                                    min_impurity_decrease=0.0,\n",
       "                                                    min_impurity_split=None,\n",
       "                                                    min_samples_leaf=1,\n",
       "                                                    min_samples_split=2,\n",
       "                                                    min_weight_fraction_leaf=0.0,\n",
       "                                                    n_estimators=100,\n",
       "                                                    n_jobs=None,\n",
       "                                                    oob_score=False,\n",
       "                                                    random_state=None,\n",
       "                                                    verbose=0,\n",
       "                                                    warm_start=False),\n",
       "                   iid='deprecated', n_iter=5, n_jobs=None,\n",
       "                   param_distributions={'max_depth': [10, 50, 100, 200],\n",
       "                                        'n_estimators': [10, 50, 100, 200]},\n",
       "                   pre_dispatch='2*n_jobs', random_state=None, refit=True,\n",
       "                   return_train_score=False, scoring='roc_auc', verbose=0)"
      ]
     },
     "execution_count": 48,
     "metadata": {},
     "output_type": "execute_result"
    }
   ],
   "source": [
    "rf_randomsearch.fit(X_train, y_train_)"
   ]
  },
  {
   "cell_type": "code",
   "execution_count": 49,
   "metadata": {},
   "outputs": [],
   "source": [
    "y_pred_random = rf_randomsearch.predict(X_test)"
   ]
  },
  {
   "cell_type": "code",
   "execution_count": 50,
   "metadata": {},
   "outputs": [
    {
     "name": "stdout",
     "output_type": "stream",
     "text": [
      "Accuracy: 0.914\n",
      "Precision: 0.938\n",
      "Recall: 0.2\n",
      "AUROC Score: 0.599\n"
     ]
    }
   ],
   "source": [
    "print('Accuracy:', round(accuracy_score(y_test_, y_pred_random), 3))\n",
    "print('Precision:', round(precision_score(y_test_, y_pred_random), 3))\n",
    "print('Recall:', round(recall_score(y_test_, y_pred_random), 3))\n",
    "print('AUROC Score:', round(roc_auc_score(y_test_, y_pred_random), 3))"
   ]
  },
  {
   "cell_type": "code",
   "execution_count": 51,
   "metadata": {},
   "outputs": [
    {
     "data": {
      "text/plain": [
       "RandomForestClassifier(bootstrap=True, ccp_alpha=0.0, class_weight=None,\n",
       "                       criterion='gini', max_depth=100, max_features='auto',\n",
       "                       max_leaf_nodes=None, max_samples=None,\n",
       "                       min_impurity_decrease=0.0, min_impurity_split=None,\n",
       "                       min_samples_leaf=1, min_samples_split=2,\n",
       "                       min_weight_fraction_leaf=0.0, n_estimators=200,\n",
       "                       n_jobs=None, oob_score=False, random_state=None,\n",
       "                       verbose=0, warm_start=False)"
      ]
     },
     "execution_count": 51,
     "metadata": {},
     "output_type": "execute_result"
    }
   ],
   "source": [
    "rf_randomsearch.best_estimator_"
   ]
  },
  {
   "cell_type": "code",
   "execution_count": null,
   "metadata": {},
   "outputs": [],
   "source": []
  }
 ],
 "metadata": {
  "kernelspec": {
   "display_name": "Python 3",
   "language": "python",
   "name": "python3"
  },
  "language_info": {
   "codemirror_mode": {
    "name": "ipython",
    "version": 3
   },
   "file_extension": ".py",
   "mimetype": "text/x-python",
   "name": "python",
   "nbconvert_exporter": "python",
   "pygments_lexer": "ipython3",
   "version": "3.7.6"
  }
 },
 "nbformat": 4,
 "nbformat_minor": 2
}
